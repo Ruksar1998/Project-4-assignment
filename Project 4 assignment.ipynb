{
 "cells": [
  {
   "cell_type": "markdown",
   "metadata": {},
   "source": [
    "# Assignment Day 8"
   ]
  },
  {
   "cell_type": "code",
   "execution_count": 98,
   "metadata": {},
   "outputs": [],
   "source": [
    "# lets read and write to a real-time \n",
    "# Database server like Firebase"
   ]
  },
  {
   "cell_type": "raw",
   "metadata": {},
   "source": [
    "Every APP or website requires 2 things in common -\n",
    "\n",
    "1. Authentication\n",
    "2. Database\n",
    "\n",
    "Zomato, Uber, Big Basket, JIO"
   ]
  },
  {
   "cell_type": "raw",
   "metadata": {},
   "source": [
    "If a developer wants to develop a database and \n",
    "Auth by themself, it take time(generally 10,20 days)"
   ]
  },
  {
   "cell_type": "raw",
   "metadata": {},
   "source": [
    "If we are a small scale company or a startup, we cant afford \n",
    "that much time, Right?\n",
    "\n",
    "So we want some solution, which provides us Auth and DB \n",
    "instantly,\n",
    "\n",
    "With efforts, so that system is Firebase"
   ]
  },
  {
   "cell_type": "code",
   "execution_count": 17,
   "metadata": {},
   "outputs": [
    {
     "name": "stdout",
     "output_type": "stream",
     "text": [
      "Requirement already satisfied: firebase in c:\\programdata\\anaconda3\\lib\\site-packages (3.0.1)\n",
      "Requirement already satisfied: requests in c:\\programdata\\anaconda3\\lib\\site-packages (from firebase) (2.24.0)\n",
      "Requirement already satisfied: certifi>=2017.4.17 in c:\\programdata\\anaconda3\\lib\\site-packages (from requests->firebase) (2020.6.20)\n",
      "Requirement already satisfied: urllib3!=1.25.0,!=1.25.1,<1.26,>=1.21.1 in c:\\programdata\\anaconda3\\lib\\site-packages (from requests->firebase) (1.25.11)\n",
      "Requirement already satisfied: chardet<4,>=3.0.2 in c:\\programdata\\anaconda3\\lib\\site-packages (from requests->firebase) (3.0.4)\n",
      "Requirement already satisfied: idna<3,>=2.5 in c:\\programdata\\anaconda3\\lib\\site-packages (from requests->firebase) (2.10)\n"
     ]
    }
   ],
   "source": [
    "#step 1\n",
    "!pip install firebase"
   ]
  },
  {
   "cell_type": "code",
   "execution_count": 23,
   "metadata": {},
   "outputs": [],
   "source": [
    "# step 2\n",
    "\n",
    "#create a project in Firebase from firebase import firebase"
   ]
  },
  {
   "cell_type": "code",
   "execution_count": 24,
   "metadata": {},
   "outputs": [],
   "source": [
    "# step 3 - Import Firebase\n",
    "\n",
    "import firebase_admin"
   ]
  },
  {
   "cell_type": "code",
   "execution_count": 25,
   "metadata": {},
   "outputs": [],
   "source": [
    "# step 4 -\n",
    "\n",
    "from firebase_admin import credentials\n",
    "from firebase_admin import firestore"
   ]
  },
  {
   "cell_type": "code",
   "execution_count": 26,
   "metadata": {},
   "outputs": [],
   "source": [
    "# step 5 - Download the cred key from the Firebase"
   ]
  },
  {
   "cell_type": "code",
   "execution_count": 27,
   "metadata": {},
   "outputs": [],
   "source": [
    "# step 6 - Place it in your Folder where the \n",
    "# Firebase project is happening"
   ]
  },
  {
   "cell_type": "code",
   "execution_count": 38,
   "metadata": {},
   "outputs": [
    {
     "data": {
      "text/plain": [
       "<firebase_admin.App at 0x22b94c56f70>"
      ]
     },
     "execution_count": 38,
     "metadata": {},
     "output_type": "execute_result"
    }
   ],
   "source": [
    "cred = credentials.Certificate(\"python-demo-letsupgrade-e1dc2-firebase-adminsdk-4ht96-540b8c1886.json\")\n",
    "firebase_admin.initialize_app(cred)"
   ]
  },
  {
   "cell_type": "code",
   "execution_count": 39,
   "metadata": {},
   "outputs": [],
   "source": [
    "db = firestore.client()"
   ]
  },
  {
   "cell_type": "code",
   "execution_count": 40,
   "metadata": {},
   "outputs": [
    {
     "data": {
      "text/plain": [
       "update_time {\n",
       "  seconds: 1608456088\n",
       "  nanos: 422163000\n",
       "}"
      ]
     },
     "execution_count": 40,
     "metadata": {},
     "output_type": "execute_result"
    }
   ],
   "source": [
    "doc_ref = db.collection(u'users').document(u'abc')\n",
    "\n",
    "doc_ref.set({\n",
    "    u'first': u'Faiza',\n",
    "    u'last': u'Gokak',\n",
    "    u'born': 1997\n",
    "})\n"
   ]
  },
  {
   "cell_type": "code",
   "execution_count": 71,
   "metadata": {},
   "outputs": [],
   "source": [
    "#step 7\n",
    "def enterDataInDB():\n",
    "    doc_ref = db.collection(u'LetsUpgrade').document()\n",
    "    name = input(\"Enter name - \")\n",
    "    lastname = input(\"Enter lastname - \")\n",
    "    age = int(input(\"Enter age - \"))\n",
    "    dit = {}\n",
    "    dit(\"firstname\") = name\n",
    "    dit(\"lastname\") = lastname\n",
    "    dit(\"age\") = age\n",
    "    doc_ref.set(dit)\n",
    "    "
   ]
  },
  {
   "cell_type": "code",
   "execution_count": 73,
   "metadata": {},
   "outputs": [],
   "source": [
    "enterDataInDB(\"sai\",\"lu\",90)"
   ]
  },
  {
   "cell_type": "code",
   "execution_count": 74,
   "metadata": {},
   "outputs": [],
   "source": [
    "enterDataInDB(\"jaya\",\"raja\",190)"
   ]
  },
  {
   "cell_type": "code",
   "execution_count": 75,
   "metadata": {},
   "outputs": [],
   "source": [
    "enterDataInDB(\"yogesh\",\"lu\",17)"
   ]
  },
  {
   "cell_type": "code",
   "execution_count": null,
   "metadata": {},
   "outputs": [],
   "source": [
    "enterDataInDB()"
   ]
  },
  {
   "cell_type": "code",
   "execution_count": 77,
   "metadata": {},
   "outputs": [],
   "source": [
    "# STEP 8 - Read data from Firebase DB (Firestore)\n"
   ]
  },
  {
   "cell_type": "code",
   "execution_count": 85,
   "metadata": {
    "scrolled": true
   },
   "outputs": [
    {
     "name": "stdout",
     "output_type": "stream",
     "text": [
      "1unEOV2Su1uZK9pcMlBT => {'last': 'LU', 'first': 'Sai', 'born': 1888}\n",
      "ID -  1unEOV2Su1uZK9pcMlBT\n",
      "first -  Sai\n",
      "---------------\n",
      "2q4wwq1iHgYvnYQtl6AY => {'born': 1997, 'last': 'Gokak', 'first': 'Faiza'}\n",
      "ID -  2q4wwq1iHgYvnYQtl6AY\n",
      "first -  Faiza\n",
      "---------------\n",
      "4OEoD2QgSVYDgoDRPwxy => {'first': 'Sai', 'last': 'LU', 'born': 1888}\n",
      "ID -  4OEoD2QgSVYDgoDRPwxy\n",
      "first -  Sai\n",
      "---------------\n",
      "CeQQW6FuDBtqtp7oI7Ej => {'first': 'Sai', 'last': 'LU', 'born': 1888}\n",
      "ID -  CeQQW6FuDBtqtp7oI7Ej\n",
      "first -  Sai\n",
      "---------------\n",
      "EZVI09LA1NXUMgDM4vLs => {'first': 'Sai', 'born': 1888, 'last': 'LU'}\n",
      "ID -  EZVI09LA1NXUMgDM4vLs\n",
      "first -  Sai\n",
      "---------------\n",
      "G7mKkCITWB11RW1DN2OQ => {'born': 1997, 'first': 'Faiza', 'last': 'Gokak'}\n",
      "ID -  G7mKkCITWB11RW1DN2OQ\n",
      "first -  Faiza\n",
      "---------------\n",
      "abc => {'first': 'Faiza', 'born': 1997, 'last': 'Gokak'}\n",
      "ID -  abc\n",
      "first -  Faiza\n",
      "---------------\n",
      "ev4tqhFcs2Yo4MqHffnY => {'myname': 'letsupgrade'}\n",
      "ID -  ev4tqhFcs2Yo4MqHffnY\n",
      "first -  None\n",
      "---------------\n",
      "f2XOqIJNjicXmD6Gzbnh => {'born': 1997, 'last': 'Gokak', 'first': 'Faiza'}\n",
      "ID -  f2XOqIJNjicXmD6Gzbnh\n",
      "first -  Faiza\n",
      "---------------\n",
      "fzDlHPD4ungYswkd9cCz => {'first': 'Faiza', 'born': 1997, 'last': 'Gokak'}\n",
      "ID -  fzDlHPD4ungYswkd9cCz\n",
      "first -  Faiza\n",
      "---------------\n",
      "obCf196xBOgt5iA3hB76 => {'first': 'Faiza', 'last': 'Gokak', 'born': 1997}\n",
      "ID -  obCf196xBOgt5iA3hB76\n",
      "first -  Faiza\n",
      "---------------\n",
      "pUqwz7gbULDWYhb0arEM => {'last': 'Gokak', 'born': 1997, 'first': 'Faiza'}\n",
      "ID -  pUqwz7gbULDWYhb0arEM\n",
      "first -  Faiza\n",
      "---------------\n",
      "t5HRxOJYhzCY9m4b4Euc => {'last': 'Gokak', 'first': 'Faiza', 'born': 1997}\n",
      "ID -  t5HRxOJYhzCY9m4b4Euc\n",
      "first -  Faiza\n",
      "---------------\n"
     ]
    }
   ],
   "source": [
    "docs = db.collection(u'users').stream()\n",
    "\n",
    "for doc in docs:\n",
    "    print(f'{doc.id} => {doc.to_dict()}')\n",
    "    \n",
    "    print(\"ID - \", doc.id)\n",
    "    \n",
    "    print(\"first - \", doc.to_dict().get(\"first\"))\n",
    "    \n",
    "    print(\"---------------\")"
   ]
  },
  {
   "cell_type": "code",
   "execution_count": 92,
   "metadata": {},
   "outputs": [],
   "source": [
    "# step 9 - update a entry ->\n",
    "\n",
    "def updateDatainFirebase(uid, updatedborn):\n",
    "    doc_ref = db.collection(u'users').document(uid)\n",
    "   \n",
    "    doc_ref.update({\"born\":updatedborn})\n",
    "    \n"
   ]
  },
  {
   "cell_type": "code",
   "execution_count": 93,
   "metadata": {},
   "outputs": [],
   "source": [
    "updateDatainFirebase(\"1unEOV2Su1uZK9pcMlBT\",1889)"
   ]
  },
  {
   "cell_type": "code",
   "execution_count": 94,
   "metadata": {},
   "outputs": [],
   "source": [
    "updateDatainFirebase(\"2q4wwq1iHgYvnYQtl6AY\",1999)"
   ]
  },
  {
   "cell_type": "code",
   "execution_count": 95,
   "metadata": {},
   "outputs": [],
   "source": [
    "# step 10 - delete data from firebase\n",
    "\n",
    "def deleteDataInFirebase(uid):\n",
    "    db.collection(u'users').document(uid).delete()\n"
   ]
  },
  {
   "cell_type": "code",
   "execution_count": 97,
   "metadata": {},
   "outputs": [],
   "source": [
    "deleteDataInFirebase(\"1unEOV2Su1uZK9pcMlBT\")"
   ]
  },
  {
   "cell_type": "code",
   "execution_count": null,
   "metadata": {},
   "outputs": [],
   "source": []
  }
 ],
 "metadata": {
  "kernelspec": {
   "display_name": "Python 3",
   "language": "python",
   "name": "python3"
  },
  "language_info": {
   "codemirror_mode": {
    "name": "ipython",
    "version": 3
   },
   "file_extension": ".py",
   "mimetype": "text/x-python",
   "name": "python",
   "nbconvert_exporter": "python",
   "pygments_lexer": "ipython3",
   "version": "3.8.5"
  }
 },
 "nbformat": 4,
 "nbformat_minor": 4
}
